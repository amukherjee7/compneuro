{
 "cells": [
  {
   "cell_type": "code",
   "execution_count": 102,
   "metadata": {},
   "outputs": [],
   "source": [
    "import matplotlib.pyplot as plt\n",
    "import numpy as np\n",
    "import pandas as pd \n",
    "import os\n",
    "\n",
    "save_path = \"rasters\"  # Ensure this directory exists\n",
    "os.makedirs(save_path, exist_ok=True)"
   ]
  },
  {
   "cell_type": "markdown",
   "metadata": {},
   "source": [
    "# **000**"
   ]
  },
  {
   "cell_type": "markdown",
   "metadata": {},
   "source": [
    "**6 well rasters**"
   ]
  },
  {
   "cell_type": "code",
   "execution_count": 103,
   "metadata": {},
   "outputs": [
    {
     "name": "stdout",
     "output_type": "stream",
     "text": [
      "Saved raster plot for A1 at plots/rasters/000/A1_6_well_raster.png\n",
      "Saved raster plot for A2 at plots/rasters/000/A2_6_well_raster.png\n",
      "Saved raster plot for A3 at plots/rasters/000/A3_6_well_raster.png\n",
      "Saved raster plot for B1 at plots/rasters/000/B1_6_well_raster.png\n",
      "Saved raster plot for B2 at plots/rasters/000/B2_6_well_raster.png\n",
      "Saved raster plot for B3 at plots/rasters/000/B3_6_well_raster.png\n"
     ]
    }
   ],
   "source": [
    "# Load data for Ivana 6 well NOTCH mutants\n",
    "file_path = \"rasters_data/6-well/Ivana_6well_NOTCHmutants(000)(000)_spike_counts.csv\"\n",
    "data = pd.read_csv(file_path)\n",
    "save_path = 'plots/rasters/000'\n",
    "os.makedirs(save_path, exist_ok=True)\n",
    "\n",
    "# Function to plot rasters for each electrode in each well\n",
    "def plot_raster(data, well_name):\n",
    "    # Filter columns for the specific well\n",
    "    well_columns = [col for col in data.columns if col.startswith(well_name)]\n",
    "    interval_start = data[\"Interval_Start\"]\n",
    "\n",
    "    fig, ax = plt.subplots(figsize=(12, 8))\n",
    "    for idx, electrode in enumerate(well_columns):\n",
    "        # Get spike activity for the electrode\n",
    "        spike_times = interval_start[data[electrode] == 1]\n",
    "        ax.vlines(spike_times, idx + 0.5, idx + 1.5, color='black')\n",
    "\n",
    "    # Set x-axis limits to ensure consistency\n",
    "    ax.set_xlim(0, 300)  # Adjust this range as needed\n",
    "    ax.set_xlabel(\"Time (s)\", fontsize=14)\n",
    "    ax.set_ylabel(\"Electrodes\", fontsize=14)\n",
    "    ax.set_title(f\"6-well Raster Plot for Well {well_name}\", fontsize=16)\n",
    "    ax.set_yticks(range(1, len(well_columns) + 1))\n",
    "    ax.set_yticklabels(well_columns, fontsize=8)\n",
    "    plt.tight_layout()\n",
    "\n",
    "    # Save the plot\n",
    "    plot_path = os.path.join(save_path, f\"{well_name}_6_well_raster.png\")\n",
    "    plt.savefig(plot_path)\n",
    "    print(f\"Saved raster plot for {well_name} at {plot_path}\")\n",
    "    plt.close()\n",
    "\n",
    "# Generate raster plots for each well\n",
    "wells = [\"A1\", \"A2\", \"A3\", \"B1\", \"B2\", \"B3\"]\n",
    "for well in wells:\n",
    "    plot_raster(data, well)\n",
    "\n",
    "# Results: A1 had the most activity, A2 and A3 had some activity, B1 had a little activity, B2 and B3 had no activity"
   ]
  },
  {
   "cell_type": "markdown",
   "metadata": {},
   "source": [
    "**Ivana 24-well rasters**"
   ]
  },
  {
   "cell_type": "code",
   "execution_count": 104,
   "metadata": {},
   "outputs": [
    {
     "name": "stdout",
     "output_type": "stream",
     "text": [
      "Silent wells (no spikes): A3, A4, A5, A6, B2, B3, B4, B5, B6, C2, C3, C5, C6, D1, D5, D6\n",
      "Saved raster plot for A1 at plots/rasters/000/A1_24_well_raster.png\n",
      "Saved raster plot for A2 at plots/rasters/000/A2_24_well_raster.png\n",
      "Saved raster plot for B1 at plots/rasters/000/B1_24_well_raster.png\n",
      "Saved raster plot for B2 at plots/rasters/000/B2_24_well_raster.png\n",
      "Saved raster plot for C4 at plots/rasters/000/C4_24_well_raster.png\n",
      "Saved raster plot for C1 at plots/rasters/000/C1_24_well_raster.png\n",
      "Saved raster plot for D3 at plots/rasters/000/D3_24_well_raster.png\n",
      "Saved raster plot for D4 at plots/rasters/000/D4_24_well_raster.png\n"
     ]
    }
   ],
   "source": [
    "\n",
    "save_path = \"plots/rasters/000\"\n",
    "os.makedirs(save_path, exist_ok=True)\n",
    "file_path = \"rasters_data/24-well/Ivana_24_well_NOTCHmutants(000)(000)_spike_counts.csv\"  # Update this with your actual file path\n",
    "data = pd.read_csv(file_path)\n",
    "\n",
    "# Function to calculate total activity for each well\n",
    "def calculate_activity(data, well_name):\n",
    "    well_columns = [col for col in data.columns if col.startswith(well_name)]\n",
    "    return data[well_columns].sum().sum()\n",
    "\n",
    "# Function to plot raster for a single well\n",
    "def plot_raster(data, well_name):\n",
    "    well_columns = [col for col in data.columns if col.startswith(well_name)]\n",
    "    interval_start = data[\"Interval_Start\"]\n",
    "\n",
    "    fig, ax = plt.subplots(figsize=(12, 8))\n",
    "    for idx, electrode in enumerate(well_columns):\n",
    "        # Get spike activity for the electrode\n",
    "        spike_times = interval_start[data[electrode] == 1]\n",
    "        ax.vlines(spike_times, idx + 0.5, idx + 1.0, color='black')  # Add vertical lines\n",
    "\n",
    "    # Set x-axis limits to ensure consistency across plots\n",
    "    ax.set_xlim(0, 300)\n",
    "    ax.set_xlabel(\"Time (s)\", fontsize=14)\n",
    "    ax.set_ylabel(\"Electrodes\", fontsize=14)\n",
    "    ax.set_title(f\"24-well Raster Plot for Well {well_name}\", fontsize=16)\n",
    "    ax.set_yticks(range(1, len(well_columns) + 1))\n",
    "    ax.set_yticklabels(well_columns, fontsize=8)\n",
    "    plt.tight_layout()\n",
    "\n",
    "    # Save the plot\n",
    "    plot_path = os.path.join(save_path, f\"{well_name}_24_well_raster.png\")\n",
    "    plt.savefig(plot_path)\n",
    "    print(f\"Saved raster plot for {well_name} at {plot_path}\")\n",
    "    plt.close()\n",
    "\n",
    "# Define the 24 wells in a 6x4 plate (A1-A6, B1-B6, C1-C6, D1-D6)\n",
    "wells = [\n",
    "    [f\"A{i}\" for i in range(1, 7)],\n",
    "    [f\"B{i}\" for i in range(1, 7)],\n",
    "    [f\"C{i}\" for i in range(1, 7)],\n",
    "    [f\"D{i}\" for i in range(1, 7)]\n",
    "]\n",
    "\n",
    "# Identify silent wells and the most active wells\n",
    "silent_wells = []\n",
    "most_active_wells = []\n",
    "\n",
    "for row in wells:\n",
    "    row_activities = {well: calculate_activity(data, well) for well in row}\n",
    "    # Find silent wells (activity = 0)\n",
    "    silent_wells.extend([well for well, activity in row_activities.items() if activity == 0])\n",
    "    # Get the two wells with the highest activity\n",
    "    top_2_wells = sorted(row_activities, key=row_activities.get, reverse=True)[:2]\n",
    "    most_active_wells.extend(top_2_wells)\n",
    "\n",
    "# Print silent wells\n",
    "if silent_wells:\n",
    "    print(f\"Silent wells (no spikes): {', '.join(silent_wells)}\")\n",
    "else:\n",
    "    print(\"No silent wells detected.\")\n",
    "\n",
    "# Plot rasters for the most active wells\n",
    "for well in most_active_wells:\n",
    "    plot_raster(data, well)"
   ]
  },
  {
   "cell_type": "markdown",
   "metadata": {},
   "source": [
    "**Head to Head Rasters**"
   ]
  },
  {
   "cell_type": "code",
   "execution_count": 105,
   "metadata": {},
   "outputs": [
    {
     "name": "stdout",
     "output_type": "stream",
     "text": [
      "Selected wells for raster plots: A2, A5, A6, C2, C4, B3, D5, D6\n",
      "Saved raster plot for A2 at plots/rasters/000/A2_HtoH_raster.png\n",
      "Saved raster plot for A5 at plots/rasters/000/A5_HtoH_raster.png\n",
      "Saved raster plot for A6 at plots/rasters/000/A6_HtoH_raster.png\n",
      "Saved raster plot for C2 at plots/rasters/000/C2_HtoH_raster.png\n",
      "Saved raster plot for C4 at plots/rasters/000/C4_HtoH_raster.png\n",
      "Saved raster plot for B3 at plots/rasters/000/B3_HtoH_raster.png\n",
      "Saved raster plot for D5 at plots/rasters/000/D5_HtoH_raster.png\n",
      "Saved raster plot for D6 at plots/rasters/000/D6_HtoH_raster.png\n"
     ]
    }
   ],
   "source": [
    "# Load H-to-H data\n",
    "file_path = 'rasters_data/h2h/JLS_H2H_activity(000)(000)_spike_counts.csv'\n",
    "data = pd.read_csv(file_path)\n",
    "save_path = 'plots/rasters/000'\n",
    "os.makedirs(save_path, exist_ok=True)\n",
    "\n",
    "# Function to calculate activity per well\n",
    "def calculate_activity(data, well_name):\n",
    "    well_columns = [col for col in data.columns if col.startswith(well_name)]\n",
    "    return data[well_columns].sum().sum()\n",
    "\n",
    "# Function to plot raster for a single well\n",
    "def plot_raster(data, well_name):\n",
    "    well_columns = [col for col in data.columns if col.startswith(well_name)]\n",
    "    interval_start = data[\"Interval_Start\"]\n",
    "\n",
    "    fig, ax = plt.subplots(figsize=(12, 8))\n",
    "    for idx, electrode in enumerate(well_columns):\n",
    "        # Get spike activity for the electrode\n",
    "        spike_times = interval_start[data[electrode] == 1]\n",
    "        ax.vlines(spike_times, idx + 0.5, idx + 1.0, color='black')  # Add vertical lines\n",
    "\n",
    "    # Set x-axis limits for consistency\n",
    "    ax.set_xlim(0, 300)\n",
    "    ax.set_xlabel(\"Time (s)\", fontsize=14)\n",
    "    ax.set_ylabel(\"Electrodes\", fontsize=14)\n",
    "    ax.set_title(f\"Head-to-Head Raster Plot for Well {well_name}\", fontsize=16)\n",
    "    ax.set_yticks(range(1, len(well_columns) + 1))\n",
    "    ax.set_yticklabels(well_columns, fontsize=8)\n",
    "    plt.tight_layout()\n",
    "\n",
    "    # Save the plot\n",
    "    plot_path = os.path.join(save_path, f\"{well_name}_HtoH_raster.png\")\n",
    "    plt.savefig(plot_path)\n",
    "    print(f\"Saved raster plot for {well_name} at {plot_path}\")\n",
    "    plt.close()\n",
    "\n",
    "# Define the 24-well plate layout\n",
    "wells = [\n",
    "    [f\"A{i}\" for i in range(1, 7)],  # Row A\n",
    "    [f\"B{i}\" for i in range(1, 7)],  # Row B\n",
    "    [f\"C{i}\" for i in range(1, 7)],  # Row C\n",
    "    [f\"D{i}\" for i in range(1, 7)]   # Row D\n",
    "]\n",
    "\n",
    "most_active_wells = []\n",
    "\n",
    "# Group 1: Row A (Top 3 performers)\n",
    "row_a = wells[0]\n",
    "row_a_activities = {well: calculate_activity(data, well) for well in row_a}\n",
    "top_3_row_a = sorted(row_a_activities, key=row_a_activities.get, reverse=True)[:3]\n",
    "most_active_wells.extend(top_3_row_a)\n",
    "\n",
    "# Group 2: Rows B, C, and Wells D1-D4 (Top 3 performers across all)\n",
    "b_c_d1_to_d4 = wells[1] + wells[2] + wells[3][:4]\n",
    "b_c_d1_to_d4_activities = {well: calculate_activity(data, well) for well in b_c_d1_to_d4}\n",
    "top_3_b_c_d1_to_d4 = sorted(b_c_d1_to_d4_activities, key=b_c_d1_to_d4_activities.get, reverse=True)[:3]\n",
    "most_active_wells.extend(top_3_b_c_d1_to_d4)\n",
    "\n",
    "# Group 3: Wells D5 and D6 (Individualized rasters)\n",
    "most_active_wells.extend(wells[3][4:6])\n",
    "\n",
    "# Print selected wells\n",
    "print(f\"Selected wells for raster plots: {', '.join(most_active_wells)}\")\n",
    "\n",
    "# Plot rasters for the selected wells\n",
    "for well in most_active_wells:\n",
    "    plot_raster(data, well)\n",
    "\n"
   ]
  },
  {
   "cell_type": "markdown",
   "metadata": {},
   "source": [
    "**trying smth diff**"
   ]
  },
  {
   "cell_type": "code",
   "execution_count": null,
   "metadata": {},
   "outputs": [],
   "source": []
  }
 ],
 "metadata": {
  "kernelspec": {
   "display_name": "base",
   "language": "python",
   "name": "python3"
  },
  "language_info": {
   "codemirror_mode": {
    "name": "ipython",
    "version": 3
   },
   "file_extension": ".py",
   "mimetype": "text/x-python",
   "name": "python",
   "nbconvert_exporter": "python",
   "pygments_lexer": "ipython3",
   "version": "3.11.7"
  }
 },
 "nbformat": 4,
 "nbformat_minor": 2
}
